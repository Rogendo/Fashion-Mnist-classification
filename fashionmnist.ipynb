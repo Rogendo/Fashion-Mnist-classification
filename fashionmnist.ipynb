{
 "cells": [
  {
   "cell_type": "code",
   "execution_count": 1,
   "id": "58dcda3b-658a-405c-808c-b6dca98e3c11",
   "metadata": {},
   "outputs": [],
   "source": [
    "# IMPORTING BASIC LIBRARIES"
   ]
  },
  {
   "cell_type": "code",
   "execution_count": 4,
   "id": "fb8dbeb1-3d9d-465d-919b-e251bc1c6f2b",
   "metadata": {
    "tags": []
   },
   "outputs": [],
   "source": [
    "import tensorflow as tf\n",
    "from tensorflow import keras"
   ]
  },
  {
   "cell_type": "code",
   "execution_count": null,
   "id": "86e81ff6-c3f5-4bc0-9361-cc2a52ae141c",
   "metadata": {},
   "outputs": [],
   "source": []
  },
  {
   "cell_type": "code",
   "execution_count": null,
   "id": "7cf7c22e-5139-4ad3-b4fb-28eeede71460",
   "metadata": {
    "tags": []
   },
   "outputs": [
    {
     "name": "stdout",
     "output_type": "stream",
     "text": [
      "Downloading data from https://storage.googleapis.com/tensorflow/tf-keras-datasets/train-labels-idx1-ubyte.gz\n",
      "29515/29515 [==============================] - 0s 4us/step\n",
      "Downloading data from https://storage.googleapis.com/tensorflow/tf-keras-datasets/train-images-idx3-ubyte.gz\n"
     ]
    }
   ],
   "source": [
    "# FIRST STEP IS LOADING THE DATASET\n",
    "\n",
    "fashion_mnist=keras.datasets.fashion_mnist\n",
    "(train_images,train_labels),(test_images,test_labels)=fashion_mnist.load_data()"
   ]
  },
  {
   "cell_type": "code",
   "execution_count": null,
   "id": "7dd37417-5306-46d2-bbb0-9fd9c7e527c8",
   "metadata": {},
   "outputs": [],
   "source": [
    "class_names=['T-shirt/Top','Trouser','Pullover','Dress','Coat','Sandal','Shirt','Sneaker','Bag','Ankle boot']\n",
    "             "
   ]
  },
  {
   "cell_type": "code",
   "execution_count": null,
   "id": "b9774ea9-ff68-43b7-aedc-33efd8abb48b",
   "metadata": {},
   "outputs": [],
   "source": []
  },
  {
   "cell_type": "code",
   "execution_count": null,
   "id": "fc35b6af-a580-4da9-b2ee-19aeb85c12a2",
   "metadata": {},
   "outputs": [],
   "source": [
    "# exploring our data\n",
    "len(test_labels)"
   ]
  },
  {
   "cell_type": "code",
   "execution_count": null,
   "id": "d3358c39-8670-4fde-9a9e-7e5c9493bac8",
   "metadata": {},
   "outputs": [],
   "source": [
    "train_images.shape"
   ]
  },
  {
   "cell_type": "code",
   "execution_count": null,
   "id": "d0ac3025-b720-4676-b642-0e7adaa342f5",
   "metadata": {},
   "outputs": [],
   "source": [
    "test_images.shape\n"
   ]
  },
  {
   "cell_type": "code",
   "execution_count": null,
   "id": "bd627ce7-e5be-47f9-969b-4a35765244a3",
   "metadata": {},
   "outputs": [],
   "source": [
    "train_labels.shape"
   ]
  },
  {
   "cell_type": "code",
   "execution_count": null,
   "id": "f325ba84-1ff0-4413-97ad-33ffcc340958",
   "metadata": {},
   "outputs": [],
   "source": [
    "len(train_labels)"
   ]
  },
  {
   "cell_type": "code",
   "execution_count": null,
   "id": "f5df86fc-0ae0-4568-a18a-a9cdbdc9035f",
   "metadata": {},
   "outputs": [],
   "source": [
    "# DATA VISUALIZATION AND PREPROCESSING\n",
    "import matplotlib.pyplot as plt\n",
    "plt.figure()\n",
    "plt.imshow(train_images[1])\n",
    "plt.colorbar()\n",
    "plt.grid(False)"
   ]
  },
  {
   "cell_type": "code",
   "execution_count": null,
   "id": "de00756f-01ff-4e00-b746-4671be0c396f",
   "metadata": {},
   "outputs": [],
   "source": [
    "# PREPROCESSING DATA\n",
    "\n",
    "train_images/255.0\n",
    "test_images/255.0"
   ]
  },
  {
   "cell_type": "code",
   "execution_count": null,
   "id": "a6e0d018-55db-4d17-b845-fbb198ea355d",
   "metadata": {},
   "outputs": [],
   "source": [
    "# DATA VISUALIZATION FIRST 10 IMAGES\n",
    "\n",
    "plt.figure(figsize=(10,10))\n",
    "for i in range(10):\n",
    "    plt.subplot(5,5,i+1)\n",
    "    plt.xticks([])\n",
    "    plt.xticks([])\n",
    "    plt.grid(False)\n",
    "    plt.imshow(train_images[i],cmap=plt.cm.binary)\n",
    "    plt.xlabel(class_names[train_labels[i]])"
   ]
  },
  {
   "cell_type": "code",
   "execution_count": null,
   "id": "9585b9c8-caf4-4dee-a604-66373ea5563f",
   "metadata": {},
   "outputs": [],
   "source": [
    "# BUILDING THE MODEL\n",
    "# LAYERS\n",
    "from keras import Sequential\n",
    "\n",
    "model=keras.Sequential([keras.layers.Flatten(input_shape=(28,28)),\n",
    "                        keras.layers.Dense(128,activation=tf.nn.relu),\n",
    "                        keras.layers.Dense(3,activation=tf.nn.softmax)])\n"
   ]
  },
  {
   "cell_type": "code",
   "execution_count": null,
   "id": "0cdab8b2-2d0a-4b88-a0ab-44298813ea22",
   "metadata": {},
   "outputs": [],
   "source": [
    "# MODEL COMPILATION STAGE\n",
    "model.compile(optimizer='rmsprop',loss='sparse_categorical_crossentropy',\n",
    "              metrics=['accuracy'])"
   ]
  },
  {
   "cell_type": "code",
   "execution_count": null,
   "id": "bdb1b3a7-9043-48cc-8dde-c79da116488d",
   "metadata": {
    "tags": []
   },
   "outputs": [],
   "source": [
    "# MODEL TRAINING\n",
    "model.fit(train_images, train_labels,epochs=6)"
   ]
  },
  {
   "cell_type": "code",
   "execution_count": null,
   "id": "726fb71e-3753-4a7c-8143-29ce0b5f5365",
   "metadata": {
    "tags": []
   },
   "outputs": [],
   "source": [
    "# ACCURACY EVALUATION\n",
    "test_loss,test_accuracy=model.evaluate(test_images,test_labels)\n",
    "print('Test Accuracy : ',test_accuracy)\n"
   ]
  },
  {
   "cell_type": "code",
   "execution_count": 1,
   "id": "e69475cc-0165-4c95-be0e-2d38f972884e",
   "metadata": {
    "tags": []
   },
   "outputs": [
    {
     "ename": "NameError",
     "evalue": "name 'model' is not defined",
     "output_type": "error",
     "traceback": [
      "\u001b[1;31m---------------------------------------------------------------------------\u001b[0m",
      "\u001b[1;31mNameError\u001b[0m                                 Traceback (most recent call last)",
      "Cell \u001b[1;32mIn [1], line 2\u001b[0m\n\u001b[0;32m      1\u001b[0m \u001b[38;5;66;03m# MAKING PREDICTIONS\u001b[39;00m\n\u001b[1;32m----> 2\u001b[0m predictions\u001b[38;5;241m=\u001b[39m\u001b[43mmodel\u001b[49m\u001b[38;5;241m.\u001b[39mpredict(test_images)\n\u001b[0;32m      3\u001b[0m predictions[\u001b[38;5;241m0\u001b[39m]\n\u001b[0;32m      5\u001b[0m plt\u001b[38;5;241m.\u001b[39mimshow(predictions[\u001b[38;5;241m0\u001b[39m])\n",
      "\u001b[1;31mNameError\u001b[0m: name 'model' is not defined"
     ]
    }
   ],
   "source": [
    "# MAKING PREDICTIONS\n",
    "predictions=model.predict(test_images)\n",
    "predictions[0]\n",
    "\n",
    "plt.imshow(predictions[0])\n",
    "np.argmax(predictions[0])\n",
    "\n",
    "test_labels[0]\n",
    "                          "
   ]
  },
  {
   "cell_type": "code",
   "execution_count": null,
   "id": "df7de8b6-fb9e-4e17-adde-6b7ef8000b5c",
   "metadata": {},
   "outputs": [],
   "source": [
    "# DEPLOYING OUR MODEL USING EITHER TKINTER OR FLASK OR KIVYMD\n",
    "import kivy\n",
    "\n",
    "from turtle import Screen\n",
    "from kivy.uix.screenmanager import ScreenManager\n",
    "from kivy.clock import Clock\n",
    "from kivy.lang import Builder\n",
    "from kivy.properties import StringProperty, BooleanProperty\n",
    "from kivy.core.window import Window\n",
    "from kivymd.uix.boxlayout import MDBoxLayout\n",
    "from kivymd.uix.screen import MDScreen\n",
    "\n",
    "from kivymd.app import MDApp\n",
    "from kivymd.theming import ThemableBehavior\n",
    "\n",
    "\n",
    "\n",
    "        \n",
    "\n"
   ]
  },
  {
   "cell_type": "code",
   "execution_count": null,
   "id": "75133e78-d34d-4f40-b17e-589f2134766c",
   "metadata": {},
   "outputs": [],
   "source": []
  }
 ],
 "metadata": {
  "kernelspec": {
   "display_name": "Python 3 (ipykernel)",
   "language": "python",
   "name": "python3"
  },
  "language_info": {
   "codemirror_mode": {
    "name": "ipython",
    "version": 3
   },
   "file_extension": ".py",
   "mimetype": "text/x-python",
   "name": "python",
   "nbconvert_exporter": "python",
   "pygments_lexer": "ipython3",
   "version": "3.10.2"
  }
 },
 "nbformat": 4,
 "nbformat_minor": 5
}
