{
  "nbformat": 4,
  "nbformat_minor": 0,
  "metadata": {
    "colab": {
      "provenance": [],
      "authorship_tag": "ABX9TyM7y/6svBpYdmzSrTkmgkJT",
      "include_colab_link": true
    },
    "kernelspec": {
      "name": "python3",
      "display_name": "Python 3"
    },
    "language_info": {
      "name": "python"
    }
  },
  "cells": [
    {
      "cell_type": "markdown",
      "metadata": {
        "id": "view-in-github",
        "colab_type": "text"
      },
      "source": [
        "<a href=\"https://colab.research.google.com/github/Rogendo/Fashion-Mnist-classification/blob/main/Extract_signatures_from_an_image.ipynb\" target=\"_parent\"><img src=\"https://colab.research.google.com/assets/colab-badge.svg\" alt=\"Open In Colab\"/></a>"
      ]
    },
    {
      "cell_type": "code",
      "execution_count": 1,
      "metadata": {
        "id": "ZzeuInbffTNe"
      },
      "outputs": [],
      "source": [
        "import cv2\n",
        "import matplotlib.pyplot as plt\n"
      ]
    },
    {
      "cell_type": "code",
      "source": [
        "from skimage import measure, morphology\n",
        "from skimage.color import label2rgb\n",
        "from skimage.measure import regionprops\n",
        "import numpy as np"
      ],
      "metadata": {
        "id": "vdtTk0Rmfc4H"
      },
      "execution_count": 2,
      "outputs": []
    },
    {
      "cell_type": "code",
      "source": [
        "# the parameters are used to remove small size connected pixels outliar \n",
        "constant_parameter_1 = 84\n",
        "constant_parameter_2 = 250\n",
        "constant_parameter_3 = 100\n",
        "\n"
      ],
      "metadata": {
        "id": "9who_Ir_g3wn"
      },
      "execution_count": 3,
      "outputs": []
    },
    {
      "cell_type": "code",
      "source": [
        "# the parameter is used to remove big size connected pixels outliar\n",
        "constant_parameter_4 = 18\n",
        "\n"
      ],
      "metadata": {
        "id": "uxF-oM7Kg6WR"
      },
      "execution_count": 4,
      "outputs": []
    },
    {
      "cell_type": "code",
      "source": [
        "img = cv2.imread('fig1.jpg', 0)\n",
        "img = cv2.threshold(img, 127, 255, cv2.THRESH_BINARY)[1]  # ensure binary\n",
        "\n"
      ],
      "metadata": {
        "id": "ezAQEqemg8y3"
      },
      "execution_count": 7,
      "outputs": []
    },
    {
      "cell_type": "code",
      "source": [
        "print(img)"
      ],
      "metadata": {
        "colab": {
          "base_uri": "https://localhost:8080/"
        },
        "id": "yHew0A00hTK8",
        "outputId": "d907bfdb-e51e-4b43-b07a-dc46357c01ca"
      },
      "execution_count": 8,
      "outputs": [
        {
          "output_type": "stream",
          "name": "stdout",
          "text": [
            "[[255 255 255 ... 255 255 255]\n",
            " [255 255 255 ... 255 255 255]\n",
            " [255 255 255 ... 255 255 255]\n",
            " ...\n",
            " [  0   0   0 ...   0   0   0]\n",
            " [  0   0   0 ...   0   0   0]\n",
            " [  0   0   0 ...   0   0   0]]\n"
          ]
        }
      ]
    },
    {
      "cell_type": "code",
      "source": [
        "# connected component analysis by scikit-learn framework\n",
        "blobs = img > img.mean()\n",
        "blobs_labels = measure.label(blobs, background=1)\n",
        "image_label_overlay = label2rgb(blobs_labels, image=img)\n",
        "\n",
        "fig, ax = plt.subplots(figsize=(10, 6))\n",
        "\n",
        "'''\n",
        "# plot the connected components (for debugging)\n",
        "ax.imshow(image_label_overlay)\n",
        "ax.set_axis_off()\n",
        "plt.tight_layout()\n",
        "plt.show()\n",
        "'''\n",
        "\n",
        "the_biggest_component = 0\n",
        "total_area = 0\n",
        "counter = 0\n",
        "average = 0.0\n",
        "for region in regionprops(blobs_labels):\n",
        "    if (region.area > 10):\n",
        "        total_area = total_area + region.area\n",
        "        counter = counter + 1\n",
        "    # print region.area # (for debugging)\n",
        "    # take regions with large enough areas\n",
        "    if (region.area >= 250):\n",
        "        if (region.area > the_biggest_component):\n",
        "            the_biggest_component = region.area\n",
        "\n",
        "average = (total_area/counter)\n",
        "print(\"the_biggest_component: \" + str(the_biggest_component))\n",
        "print(\"average: \" + str(average))"
      ],
      "metadata": {
        "colab": {
          "base_uri": "https://localhost:8080/",
          "height": 467
        },
        "id": "v93ermLghV6f",
        "outputId": "3a99bbe2-d1f8-46c9-c211-e2b686a912fb"
      },
      "execution_count": 9,
      "outputs": [
        {
          "output_type": "stream",
          "name": "stderr",
          "text": [
            "<ipython-input-9-c282bd66c6cd>:4: FutureWarning: The new recommended value for bg_label is 0. Until version 0.19, the default bg_label value is -1. From version 0.19, the bg_label default value will be 0. To avoid this warning, please explicitly set bg_label value.\n",
            "  image_label_overlay = label2rgb(blobs_labels, image=img)\n"
          ]
        },
        {
          "output_type": "stream",
          "name": "stdout",
          "text": [
            "the_biggest_component: 2160\n",
            "average: 34.27485380116959\n"
          ]
        },
        {
          "output_type": "display_data",
          "data": {
            "text/plain": [
              "<Figure size 720x432 with 1 Axes>"
            ],
            "image/png": "[encoded data removed]"
          },
          "metadata": {
            "needs_background": "light"
          }
        }
      ]
    },
    {
      "cell_type": "code",
      "source": [
        "# experimental-based ratio calculation, modify it for your cases\n",
        "# a4_small_size_outliar_constant is used as a threshold value to remove connected outliar connected pixels\n",
        "# are smaller than a4_small_size_outliar_constant for A4 size scanned documents\n",
        "a4_small_size_outliar_constant = ((average/constant_parameter_1)*constant_parameter_2)+constant_parameter_3\n",
        "print(\"a4_small_size_outliar_constant: \" + str(a4_small_size_outliar_constant))\n",
        "\n"
      ],
      "metadata": {
        "colab": {
          "base_uri": "https://localhost:8080/"
        },
        "id": "Swcx2KUPhqBH",
        "outputId": "00ca45b5-dc2e-469f-eacb-234658eeaeed"
      },
      "execution_count": 10,
      "outputs": [
        {
          "output_type": "stream",
          "name": "stdout",
          "text": [
            "a4_small_size_outliar_constant: 202.00849345586187\n"
          ]
        }
      ]
    },
    {
      "cell_type": "code",
      "source": [
        "# experimental-based ratio calculation, modify it for your cases\n",
        "# a4_big_size_outliar_constant is used as a threshold value to remove outliar connected pixels\n",
        "# are bigger than a4_big_size_outliar_constant for A4 size scanned documents\n",
        "a4_big_size_outliar_constant = a4_small_size_outliar_constant*constant_parameter_4\n",
        "print(\"a4_big_size_outliar_constant: \" + str(a4_big_size_outliar_constant))\n",
        "\n"
      ],
      "metadata": {
        "colab": {
          "base_uri": "https://localhost:8080/"
        },
        "id": "uU6_gShAhx8Z",
        "outputId": "c86f0957-84db-4981-e73c-f460b0e6aac1"
      },
      "execution_count": 11,
      "outputs": [
        {
          "output_type": "stream",
          "name": "stdout",
          "text": [
            "a4_big_size_outliar_constant: 3636.1528822055134\n"
          ]
        }
      ]
    },
    {
      "cell_type": "code",
      "source": [
        "# remove the connected pixels are smaller than a4_small_size_outliar_constant\n",
        "pre_version = morphology.remove_small_objects(blobs_labels, a4_small_size_outliar_constant)\n"
      ],
      "metadata": {
        "id": "7K8V8qAyh20Q"
      },
      "execution_count": 12,
      "outputs": []
    },
    {
      "cell_type": "code",
      "source": [
        "# remove the connected pixels are bigger than threshold a4_big_size_outliar_constant \n",
        "# to get rid of undesired connected pixels such as table headers and etc.\n",
        "component_sizes = np.bincount(pre_version.ravel())\n",
        "too_small = component_sizes > (a4_big_size_outliar_constant)\n",
        "too_small_mask = too_small[pre_version]\n",
        "pre_version[too_small_mask] = 0\n"
      ],
      "metadata": {
        "id": "YsWrhxelh6sW"
      },
      "execution_count": 13,
      "outputs": []
    },
    {
      "cell_type": "code",
      "source": [
        "# save the the pre-version which is the image is labelled with colors\n",
        "# as considering connected components\n",
        "plt.imsave('pre_version.png', pre_version)\n",
        "\n"
      ],
      "metadata": {
        "id": "cZZNt3j0h89s"
      },
      "execution_count": 14,
      "outputs": []
    },
    {
      "cell_type": "code",
      "source": [
        "# read the pre-version\n",
        "img = cv2.imread('pre_version.png', 0)\n"
      ],
      "metadata": {
        "id": "8z4-3wIxiAvK"
      },
      "execution_count": 15,
      "outputs": []
    },
    {
      "cell_type": "code",
      "source": [
        "import matplotlib.pyplot as plt"
      ],
      "metadata": {
        "id": "H6q8wjP-iFhC"
      },
      "execution_count": 16,
      "outputs": []
    },
    {
      "cell_type": "code",
      "source": [
        "print(img)"
      ],
      "metadata": {
        "colab": {
          "base_uri": "https://localhost:8080/"
        },
        "id": "F3b5ma-YiLnJ",
        "outputId": "c2a978e2-091c-49d4-8a38-b875194b081e"
      },
      "execution_count": 17,
      "outputs": [
        {
          "output_type": "stream",
          "name": "stdout",
          "text": [
            "[[ 30  30  30 ...  30  30  30]\n",
            " [ 30  30  30 ...  30  30  30]\n",
            " [ 30  30  30 ...  30  30  30]\n",
            " ...\n",
            " [215 215 215 ... 215 215 215]\n",
            " [215 215 215 ... 215 215 215]\n",
            " [215 215 215 ... 215 215 215]]\n"
          ]
        }
      ]
    },
    {
      "cell_type": "code",
      "source": [
        "form = cv2.imread('pre_version.png')\n",
        "plt.imshow(form)\n",
        "plt.show()"
      ],
      "metadata": {
        "colab": {
          "base_uri": "https://localhost:8080/",
          "height": 269
        },
        "id": "Q4s7va-RiOd6",
        "outputId": "f2187dde-363e-4885-e2fd-863867a53602"
      },
      "execution_count": 18,
      "outputs": [
        {
          "output_type": "display_data",
          "data": {
            "text/plain": [
              "<Figure size 432x288 with 1 Axes>"
            ],
            "image/png": "[encoded data removed]"
          },
          "metadata": {
            "needs_background": "light"
          }
        }
      ]
    },
    {
      "cell_type": "code",
      "source": [
        "# ensure binary\n",
        "img = cv2.threshold(img, 0, 255, cv2.THRESH_BINARY_INV | cv2.THRESH_OTSU)[1]\n"
      ],
      "metadata": {
        "id": "ZNM-w4ciiRdZ"
      },
      "execution_count": 23,
      "outputs": []
    },
    {
      "cell_type": "code",
      "source": [
        "# save the the result\n",
        "cv2.imwrite(\"output.png\", img)\n"
      ],
      "metadata": {
        "colab": {
          "base_uri": "https://localhost:8080/"
        },
        "id": "TRJ8bBM1ic1f",
        "outputId": "55723cd8-c041-47e6-ed43-8edec66e8d4c"
      },
      "execution_count": 25,
      "outputs": [
        {
          "output_type": "execute_result",
          "data": {
            "text/plain": [
              "True"
            ]
          },
          "metadata": {},
          "execution_count": 25
        }
      ]
    },
    {
      "cell_type": "code",
      "source": [
        "plt.imshow(img)\n",
        "plt.show()"
      ],
      "metadata": {
        "colab": {
          "base_uri": "https://localhost:8080/",
          "height": 269
        },
        "id": "3xsUo7veifUi",
        "outputId": "4e0b66c9-f5b1-473d-d59f-77b18799f4e6"
      },
      "execution_count": 26,
      "outputs": [
        {
          "output_type": "display_data",
          "data": {
            "text/plain": [
              "<Figure size 432x288 with 1 Axes>"
            ],
            "image/png": "[encoded data removed]"
          },
          "metadata": {
            "needs_background": "light"
          }
        }
      ]
    },
    {
      "cell_type": "code",
      "source": [],
      "metadata": {
        "id": "BbhQrJUcjJDC"
      },
      "execution_count": null,
      "outputs": []
    }
  ]
}